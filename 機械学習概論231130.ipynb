{
  "nbformat": 4,
  "nbformat_minor": 0,
  "metadata": {
    "colab": {
      "provenance": [],
      "authorship_tag": "ABX9TyPGVvw9tqftMKgaS5VsjyhP",
      "include_colab_link": true
    },
    "kernelspec": {
      "name": "python3",
      "display_name": "Python 3"
    },
    "language_info": {
      "name": "python"
    }
  },
  "cells": [
    {
      "cell_type": "markdown",
      "metadata": {
        "id": "view-in-github",
        "colab_type": "text"
      },
      "source": [
        "<a href=\"https://colab.research.google.com/github/shimon-furusato/open_test/blob/main/%E6%A9%9F%E6%A2%B0%E5%AD%A6%E7%BF%92%E6%A6%82%E8%AB%96231130.ipynb\" target=\"_parent\"><img src=\"https://colab.research.google.com/assets/colab-badge.svg\" alt=\"Open In Colab\"/></a>"
      ]
    },
    {
      "cell_type": "code",
      "execution_count": null,
      "metadata": {
        "colab": {
          "base_uri": "https://localhost:8080/",
          "height": 253
        },
        "id": "CNClMur_3nL3",
        "outputId": "826f625b-1cc4-4815-e13b-cba62e79b11f"
      },
      "outputs": [
        {
          "output_type": "execute_result",
          "data": {
            "text/plain": [
              "         x1          x2     x3     x4        x5        x6       x7       x8  \\\n",
              "0  1069.500  672.192017  1.591  1.532  1593.875   879.125  446.000  183.375   \n",
              "1  1131.750  723.656006  1.564  1.617  1768.750  1070.500  585.500  251.875   \n",
              "2  1129.625  710.463989  1.590  1.576  1819.625  1150.375  613.250  223.750   \n",
              "3  1139.125  719.908020  1.582  1.594  1802.875  1110.125  601.625  228.000   \n",
              "4  1102.000  715.364990  1.540  1.633  1808.375  1089.000  589.125  231.375   \n",
              "\n",
              "        x9     x10  ...      x64      x65      x66      x67     x68    x69  \\\n",
              "0   94.625  46.000  ...  391.500  317.750  132.375   70.625  36.125  14.25   \n",
              "1  132.250  68.500  ...  456.000  388.250  186.000  102.750  54.750  24.00   \n",
              "2  104.375  50.125  ...  514.875  414.375  160.500   74.375  37.375  20.75   \n",
              "3  104.500  50.625  ...  479.750  404.750  165.000   75.500  38.500  21.25   \n",
              "4  103.125  50.375  ...  447.375  376.000  161.375   71.750  38.750  18.50   \n",
              "\n",
              "     x70        x71         x72  y  \n",
              "0  2.125  57.200001  511.645996 -1  \n",
              "1  7.125  60.345001  534.664001 -1  \n",
              "2  7.250  60.401001  559.690979 -1  \n",
              "3  7.250  60.401001  559.690979 -1  \n",
              "4  7.875  57.508999  525.609009 -1  \n",
              "\n",
              "[5 rows x 73 columns]"
            ],
            "text/html": [
              "\n",
              "  <div id=\"df-8462d436-ea7f-4fcc-ae85-16bb84566987\" class=\"colab-df-container\">\n",
              "    <div>\n",
              "<style scoped>\n",
              "    .dataframe tbody tr th:only-of-type {\n",
              "        vertical-align: middle;\n",
              "    }\n",
              "\n",
              "    .dataframe tbody tr th {\n",
              "        vertical-align: top;\n",
              "    }\n",
              "\n",
              "    .dataframe thead th {\n",
              "        text-align: right;\n",
              "    }\n",
              "</style>\n",
              "<table border=\"1\" class=\"dataframe\">\n",
              "  <thead>\n",
              "    <tr style=\"text-align: right;\">\n",
              "      <th></th>\n",
              "      <th>x1</th>\n",
              "      <th>x2</th>\n",
              "      <th>x3</th>\n",
              "      <th>x4</th>\n",
              "      <th>x5</th>\n",
              "      <th>x6</th>\n",
              "      <th>x7</th>\n",
              "      <th>x8</th>\n",
              "      <th>x9</th>\n",
              "      <th>x10</th>\n",
              "      <th>...</th>\n",
              "      <th>x64</th>\n",
              "      <th>x65</th>\n",
              "      <th>x66</th>\n",
              "      <th>x67</th>\n",
              "      <th>x68</th>\n",
              "      <th>x69</th>\n",
              "      <th>x70</th>\n",
              "      <th>x71</th>\n",
              "      <th>x72</th>\n",
              "      <th>y</th>\n",
              "    </tr>\n",
              "  </thead>\n",
              "  <tbody>\n",
              "    <tr>\n",
              "      <th>0</th>\n",
              "      <td>1069.500</td>\n",
              "      <td>672.192017</td>\n",
              "      <td>1.591</td>\n",
              "      <td>1.532</td>\n",
              "      <td>1593.875</td>\n",
              "      <td>879.125</td>\n",
              "      <td>446.000</td>\n",
              "      <td>183.375</td>\n",
              "      <td>94.625</td>\n",
              "      <td>46.000</td>\n",
              "      <td>...</td>\n",
              "      <td>391.500</td>\n",
              "      <td>317.750</td>\n",
              "      <td>132.375</td>\n",
              "      <td>70.625</td>\n",
              "      <td>36.125</td>\n",
              "      <td>14.25</td>\n",
              "      <td>2.125</td>\n",
              "      <td>57.200001</td>\n",
              "      <td>511.645996</td>\n",
              "      <td>-1</td>\n",
              "    </tr>\n",
              "    <tr>\n",
              "      <th>1</th>\n",
              "      <td>1131.750</td>\n",
              "      <td>723.656006</td>\n",
              "      <td>1.564</td>\n",
              "      <td>1.617</td>\n",
              "      <td>1768.750</td>\n",
              "      <td>1070.500</td>\n",
              "      <td>585.500</td>\n",
              "      <td>251.875</td>\n",
              "      <td>132.250</td>\n",
              "      <td>68.500</td>\n",
              "      <td>...</td>\n",
              "      <td>456.000</td>\n",
              "      <td>388.250</td>\n",
              "      <td>186.000</td>\n",
              "      <td>102.750</td>\n",
              "      <td>54.750</td>\n",
              "      <td>24.00</td>\n",
              "      <td>7.125</td>\n",
              "      <td>60.345001</td>\n",
              "      <td>534.664001</td>\n",
              "      <td>-1</td>\n",
              "    </tr>\n",
              "    <tr>\n",
              "      <th>2</th>\n",
              "      <td>1129.625</td>\n",
              "      <td>710.463989</td>\n",
              "      <td>1.590</td>\n",
              "      <td>1.576</td>\n",
              "      <td>1819.625</td>\n",
              "      <td>1150.375</td>\n",
              "      <td>613.250</td>\n",
              "      <td>223.750</td>\n",
              "      <td>104.375</td>\n",
              "      <td>50.125</td>\n",
              "      <td>...</td>\n",
              "      <td>514.875</td>\n",
              "      <td>414.375</td>\n",
              "      <td>160.500</td>\n",
              "      <td>74.375</td>\n",
              "      <td>37.375</td>\n",
              "      <td>20.75</td>\n",
              "      <td>7.250</td>\n",
              "      <td>60.401001</td>\n",
              "      <td>559.690979</td>\n",
              "      <td>-1</td>\n",
              "    </tr>\n",
              "    <tr>\n",
              "      <th>3</th>\n",
              "      <td>1139.125</td>\n",
              "      <td>719.908020</td>\n",
              "      <td>1.582</td>\n",
              "      <td>1.594</td>\n",
              "      <td>1802.875</td>\n",
              "      <td>1110.125</td>\n",
              "      <td>601.625</td>\n",
              "      <td>228.000</td>\n",
              "      <td>104.500</td>\n",
              "      <td>50.625</td>\n",
              "      <td>...</td>\n",
              "      <td>479.750</td>\n",
              "      <td>404.750</td>\n",
              "      <td>165.000</td>\n",
              "      <td>75.500</td>\n",
              "      <td>38.500</td>\n",
              "      <td>21.25</td>\n",
              "      <td>7.250</td>\n",
              "      <td>60.401001</td>\n",
              "      <td>559.690979</td>\n",
              "      <td>-1</td>\n",
              "    </tr>\n",
              "    <tr>\n",
              "      <th>4</th>\n",
              "      <td>1102.000</td>\n",
              "      <td>715.364990</td>\n",
              "      <td>1.540</td>\n",
              "      <td>1.633</td>\n",
              "      <td>1808.375</td>\n",
              "      <td>1089.000</td>\n",
              "      <td>589.125</td>\n",
              "      <td>231.375</td>\n",
              "      <td>103.125</td>\n",
              "      <td>50.375</td>\n",
              "      <td>...</td>\n",
              "      <td>447.375</td>\n",
              "      <td>376.000</td>\n",
              "      <td>161.375</td>\n",
              "      <td>71.750</td>\n",
              "      <td>38.750</td>\n",
              "      <td>18.50</td>\n",
              "      <td>7.875</td>\n",
              "      <td>57.508999</td>\n",
              "      <td>525.609009</td>\n",
              "      <td>-1</td>\n",
              "    </tr>\n",
              "  </tbody>\n",
              "</table>\n",
              "<p>5 rows × 73 columns</p>\n",
              "</div>\n",
              "    <div class=\"colab-df-buttons\">\n",
              "\n",
              "  <div class=\"colab-df-container\">\n",
              "    <button class=\"colab-df-convert\" onclick=\"convertToInteractive('df-8462d436-ea7f-4fcc-ae85-16bb84566987')\"\n",
              "            title=\"Convert this dataframe to an interactive table.\"\n",
              "            style=\"display:none;\">\n",
              "\n",
              "  <svg xmlns=\"http://www.w3.org/2000/svg\" height=\"24px\" viewBox=\"0 -960 960 960\">\n",
              "    <path d=\"M120-120v-720h720v720H120Zm60-500h600v-160H180v160Zm220 220h160v-160H400v160Zm0 220h160v-160H400v160ZM180-400h160v-160H180v160Zm440 0h160v-160H620v160ZM180-180h160v-160H180v160Zm440 0h160v-160H620v160Z\"/>\n",
              "  </svg>\n",
              "    </button>\n",
              "\n",
              "  <style>\n",
              "    .colab-df-container {\n",
              "      display:flex;\n",
              "      gap: 12px;\n",
              "    }\n",
              "\n",
              "    .colab-df-convert {\n",
              "      background-color: #E8F0FE;\n",
              "      border: none;\n",
              "      border-radius: 50%;\n",
              "      cursor: pointer;\n",
              "      display: none;\n",
              "      fill: #1967D2;\n",
              "      height: 32px;\n",
              "      padding: 0 0 0 0;\n",
              "      width: 32px;\n",
              "    }\n",
              "\n",
              "    .colab-df-convert:hover {\n",
              "      background-color: #E2EBFA;\n",
              "      box-shadow: 0px 1px 2px rgba(60, 64, 67, 0.3), 0px 1px 3px 1px rgba(60, 64, 67, 0.15);\n",
              "      fill: #174EA6;\n",
              "    }\n",
              "\n",
              "    .colab-df-buttons div {\n",
              "      margin-bottom: 4px;\n",
              "    }\n",
              "\n",
              "    [theme=dark] .colab-df-convert {\n",
              "      background-color: #3B4455;\n",
              "      fill: #D2E3FC;\n",
              "    }\n",
              "\n",
              "    [theme=dark] .colab-df-convert:hover {\n",
              "      background-color: #434B5C;\n",
              "      box-shadow: 0px 1px 3px 1px rgba(0, 0, 0, 0.15);\n",
              "      filter: drop-shadow(0px 1px 2px rgba(0, 0, 0, 0.3));\n",
              "      fill: #FFFFFF;\n",
              "    }\n",
              "  </style>\n",
              "\n",
              "    <script>\n",
              "      const buttonEl =\n",
              "        document.querySelector('#df-8462d436-ea7f-4fcc-ae85-16bb84566987 button.colab-df-convert');\n",
              "      buttonEl.style.display =\n",
              "        google.colab.kernel.accessAllowed ? 'block' : 'none';\n",
              "\n",
              "      async function convertToInteractive(key) {\n",
              "        const element = document.querySelector('#df-8462d436-ea7f-4fcc-ae85-16bb84566987');\n",
              "        const dataTable =\n",
              "          await google.colab.kernel.invokeFunction('convertToInteractive',\n",
              "                                                    [key], {});\n",
              "        if (!dataTable) return;\n",
              "\n",
              "        const docLinkHtml = 'Like what you see? Visit the ' +\n",
              "          '<a target=\"_blank\" href=https://colab.research.google.com/notebooks/data_table.ipynb>data table notebook</a>'\n",
              "          + ' to learn more about interactive tables.';\n",
              "        element.innerHTML = '';\n",
              "        dataTable['output_type'] = 'display_data';\n",
              "        await google.colab.output.renderOutput(dataTable, element);\n",
              "        const docLink = document.createElement('div');\n",
              "        docLink.innerHTML = docLinkHtml;\n",
              "        element.appendChild(docLink);\n",
              "      }\n",
              "    </script>\n",
              "  </div>\n",
              "\n",
              "\n",
              "<div id=\"df-7c982ad7-4a46-414f-a248-9996c299c75f\">\n",
              "  <button class=\"colab-df-quickchart\" onclick=\"quickchart('df-7c982ad7-4a46-414f-a248-9996c299c75f')\"\n",
              "            title=\"Suggest charts\"\n",
              "            style=\"display:none;\">\n",
              "\n",
              "<svg xmlns=\"http://www.w3.org/2000/svg\" height=\"24px\"viewBox=\"0 0 24 24\"\n",
              "     width=\"24px\">\n",
              "    <g>\n",
              "        <path d=\"M19 3H5c-1.1 0-2 .9-2 2v14c0 1.1.9 2 2 2h14c1.1 0 2-.9 2-2V5c0-1.1-.9-2-2-2zM9 17H7v-7h2v7zm4 0h-2V7h2v10zm4 0h-2v-4h2v4z\"/>\n",
              "    </g>\n",
              "</svg>\n",
              "  </button>\n",
              "\n",
              "<style>\n",
              "  .colab-df-quickchart {\n",
              "      --bg-color: #E8F0FE;\n",
              "      --fill-color: #1967D2;\n",
              "      --hover-bg-color: #E2EBFA;\n",
              "      --hover-fill-color: #174EA6;\n",
              "      --disabled-fill-color: #AAA;\n",
              "      --disabled-bg-color: #DDD;\n",
              "  }\n",
              "\n",
              "  [theme=dark] .colab-df-quickchart {\n",
              "      --bg-color: #3B4455;\n",
              "      --fill-color: #D2E3FC;\n",
              "      --hover-bg-color: #434B5C;\n",
              "      --hover-fill-color: #FFFFFF;\n",
              "      --disabled-bg-color: #3B4455;\n",
              "      --disabled-fill-color: #666;\n",
              "  }\n",
              "\n",
              "  .colab-df-quickchart {\n",
              "    background-color: var(--bg-color);\n",
              "    border: none;\n",
              "    border-radius: 50%;\n",
              "    cursor: pointer;\n",
              "    display: none;\n",
              "    fill: var(--fill-color);\n",
              "    height: 32px;\n",
              "    padding: 0;\n",
              "    width: 32px;\n",
              "  }\n",
              "\n",
              "  .colab-df-quickchart:hover {\n",
              "    background-color: var(--hover-bg-color);\n",
              "    box-shadow: 0 1px 2px rgba(60, 64, 67, 0.3), 0 1px 3px 1px rgba(60, 64, 67, 0.15);\n",
              "    fill: var(--button-hover-fill-color);\n",
              "  }\n",
              "\n",
              "  .colab-df-quickchart-complete:disabled,\n",
              "  .colab-df-quickchart-complete:disabled:hover {\n",
              "    background-color: var(--disabled-bg-color);\n",
              "    fill: var(--disabled-fill-color);\n",
              "    box-shadow: none;\n",
              "  }\n",
              "\n",
              "  .colab-df-spinner {\n",
              "    border: 2px solid var(--fill-color);\n",
              "    border-color: transparent;\n",
              "    border-bottom-color: var(--fill-color);\n",
              "    animation:\n",
              "      spin 1s steps(1) infinite;\n",
              "  }\n",
              "\n",
              "  @keyframes spin {\n",
              "    0% {\n",
              "      border-color: transparent;\n",
              "      border-bottom-color: var(--fill-color);\n",
              "      border-left-color: var(--fill-color);\n",
              "    }\n",
              "    20% {\n",
              "      border-color: transparent;\n",
              "      border-left-color: var(--fill-color);\n",
              "      border-top-color: var(--fill-color);\n",
              "    }\n",
              "    30% {\n",
              "      border-color: transparent;\n",
              "      border-left-color: var(--fill-color);\n",
              "      border-top-color: var(--fill-color);\n",
              "      border-right-color: var(--fill-color);\n",
              "    }\n",
              "    40% {\n",
              "      border-color: transparent;\n",
              "      border-right-color: var(--fill-color);\n",
              "      border-top-color: var(--fill-color);\n",
              "    }\n",
              "    60% {\n",
              "      border-color: transparent;\n",
              "      border-right-color: var(--fill-color);\n",
              "    }\n",
              "    80% {\n",
              "      border-color: transparent;\n",
              "      border-right-color: var(--fill-color);\n",
              "      border-bottom-color: var(--fill-color);\n",
              "    }\n",
              "    90% {\n",
              "      border-color: transparent;\n",
              "      border-bottom-color: var(--fill-color);\n",
              "    }\n",
              "  }\n",
              "</style>\n",
              "\n",
              "  <script>\n",
              "    async function quickchart(key) {\n",
              "      const quickchartButtonEl =\n",
              "        document.querySelector('#' + key + ' button');\n",
              "      quickchartButtonEl.disabled = true;  // To prevent multiple clicks.\n",
              "      quickchartButtonEl.classList.add('colab-df-spinner');\n",
              "      try {\n",
              "        const charts = await google.colab.kernel.invokeFunction(\n",
              "            'suggestCharts', [key], {});\n",
              "      } catch (error) {\n",
              "        console.error('Error during call to suggestCharts:', error);\n",
              "      }\n",
              "      quickchartButtonEl.classList.remove('colab-df-spinner');\n",
              "      quickchartButtonEl.classList.add('colab-df-quickchart-complete');\n",
              "    }\n",
              "    (() => {\n",
              "      let quickchartButtonEl =\n",
              "        document.querySelector('#df-7c982ad7-4a46-414f-a248-9996c299c75f button');\n",
              "      quickchartButtonEl.style.display =\n",
              "        google.colab.kernel.accessAllowed ? 'block' : 'none';\n",
              "    })();\n",
              "  </script>\n",
              "</div>\n",
              "    </div>\n",
              "  </div>\n"
            ]
          },
          "metadata": {},
          "execution_count": 16
        }
      ],
      "source": [
        "import pandas as pd #packageをinstallするみたいな\n",
        "filepath_train=\"/content/soldat_train.csv\"\n",
        "soldat_train=pd.read_csv(filepath_train)\n",
        "soldat_train.head(n=5)"
      ]
    },
    {
      "cell_type": "code",
      "source": [
        "X_train = soldat_train.iloc[:, :71].values\n",
        "y_train = soldat_train[\"y\"].values"
      ],
      "metadata": {
        "id": "TOglmnp73yVk"
      },
      "execution_count": null,
      "outputs": []
    },
    {
      "cell_type": "code",
      "source": [
        "from sklearn.tree import DecisionTreeClassifier\n",
        "from sklearn.ensemble import AdaBoostClassifier\n",
        "dtc=DecisionTreeClassifier(max_depth=2)\n",
        "abc=AdaBoostClassifier(base_estimator=dtc,\n",
        "                       n_estimators=2000,\n",
        "                       algorithm=\"SAMME\")\n",
        "abc.fit(X_train,y_train)"
      ],
      "metadata": {
        "colab": {
          "base_uri": "https://localhost:8080/",
          "height": 169
        },
        "id": "6pI2Ok1c6uzr",
        "outputId": "107b72b5-f64c-4b8c-ad2c-3c84479302d7"
      },
      "execution_count": null,
      "outputs": [
        {
          "output_type": "stream",
          "name": "stderr",
          "text": [
            "/usr/local/lib/python3.10/dist-packages/sklearn/ensemble/_base.py:166: FutureWarning: `base_estimator` was renamed to `estimator` in version 1.2 and will be removed in 1.4.\n",
            "  warnings.warn(\n"
          ]
        },
        {
          "output_type": "execute_result",
          "data": {
            "text/plain": [
              "AdaBoostClassifier(algorithm='SAMME',\n",
              "                   base_estimator=DecisionTreeClassifier(max_depth=2),\n",
              "                   n_estimators=2000)"
            ],
            "text/html": [
              "<style>#sk-container-id-3 {color: black;background-color: white;}#sk-container-id-3 pre{padding: 0;}#sk-container-id-3 div.sk-toggleable {background-color: white;}#sk-container-id-3 label.sk-toggleable__label {cursor: pointer;display: block;width: 100%;margin-bottom: 0;padding: 0.3em;box-sizing: border-box;text-align: center;}#sk-container-id-3 label.sk-toggleable__label-arrow:before {content: \"▸\";float: left;margin-right: 0.25em;color: #696969;}#sk-container-id-3 label.sk-toggleable__label-arrow:hover:before {color: black;}#sk-container-id-3 div.sk-estimator:hover label.sk-toggleable__label-arrow:before {color: black;}#sk-container-id-3 div.sk-toggleable__content {max-height: 0;max-width: 0;overflow: hidden;text-align: left;background-color: #f0f8ff;}#sk-container-id-3 div.sk-toggleable__content pre {margin: 0.2em;color: black;border-radius: 0.25em;background-color: #f0f8ff;}#sk-container-id-3 input.sk-toggleable__control:checked~div.sk-toggleable__content {max-height: 200px;max-width: 100%;overflow: auto;}#sk-container-id-3 input.sk-toggleable__control:checked~label.sk-toggleable__label-arrow:before {content: \"▾\";}#sk-container-id-3 div.sk-estimator input.sk-toggleable__control:checked~label.sk-toggleable__label {background-color: #d4ebff;}#sk-container-id-3 div.sk-label input.sk-toggleable__control:checked~label.sk-toggleable__label {background-color: #d4ebff;}#sk-container-id-3 input.sk-hidden--visually {border: 0;clip: rect(1px 1px 1px 1px);clip: rect(1px, 1px, 1px, 1px);height: 1px;margin: -1px;overflow: hidden;padding: 0;position: absolute;width: 1px;}#sk-container-id-3 div.sk-estimator {font-family: monospace;background-color: #f0f8ff;border: 1px dotted black;border-radius: 0.25em;box-sizing: border-box;margin-bottom: 0.5em;}#sk-container-id-3 div.sk-estimator:hover {background-color: #d4ebff;}#sk-container-id-3 div.sk-parallel-item::after {content: \"\";width: 100%;border-bottom: 1px solid gray;flex-grow: 1;}#sk-container-id-3 div.sk-label:hover label.sk-toggleable__label {background-color: #d4ebff;}#sk-container-id-3 div.sk-serial::before {content: \"\";position: absolute;border-left: 1px solid gray;box-sizing: border-box;top: 0;bottom: 0;left: 50%;z-index: 0;}#sk-container-id-3 div.sk-serial {display: flex;flex-direction: column;align-items: center;background-color: white;padding-right: 0.2em;padding-left: 0.2em;position: relative;}#sk-container-id-3 div.sk-item {position: relative;z-index: 1;}#sk-container-id-3 div.sk-parallel {display: flex;align-items: stretch;justify-content: center;background-color: white;position: relative;}#sk-container-id-3 div.sk-item::before, #sk-container-id-3 div.sk-parallel-item::before {content: \"\";position: absolute;border-left: 1px solid gray;box-sizing: border-box;top: 0;bottom: 0;left: 50%;z-index: -1;}#sk-container-id-3 div.sk-parallel-item {display: flex;flex-direction: column;z-index: 1;position: relative;background-color: white;}#sk-container-id-3 div.sk-parallel-item:first-child::after {align-self: flex-end;width: 50%;}#sk-container-id-3 div.sk-parallel-item:last-child::after {align-self: flex-start;width: 50%;}#sk-container-id-3 div.sk-parallel-item:only-child::after {width: 0;}#sk-container-id-3 div.sk-dashed-wrapped {border: 1px dashed gray;margin: 0 0.4em 0.5em 0.4em;box-sizing: border-box;padding-bottom: 0.4em;background-color: white;}#sk-container-id-3 div.sk-label label {font-family: monospace;font-weight: bold;display: inline-block;line-height: 1.2em;}#sk-container-id-3 div.sk-label-container {text-align: center;}#sk-container-id-3 div.sk-container {/* jupyter's `normalize.less` sets `[hidden] { display: none; }` but bootstrap.min.css set `[hidden] { display: none !important; }` so we also need the `!important` here to be able to override the default hidden behavior on the sphinx rendered scikit-learn.org. See: https://github.com/scikit-learn/scikit-learn/issues/21755 */display: inline-block !important;position: relative;}#sk-container-id-3 div.sk-text-repr-fallback {display: none;}</style><div id=\"sk-container-id-3\" class=\"sk-top-container\"><div class=\"sk-text-repr-fallback\"><pre>AdaBoostClassifier(algorithm=&#x27;SAMME&#x27;,\n",
              "                   base_estimator=DecisionTreeClassifier(max_depth=2),\n",
              "                   n_estimators=2000)</pre><b>In a Jupyter environment, please rerun this cell to show the HTML representation or trust the notebook. <br />On GitHub, the HTML representation is unable to render, please try loading this page with nbviewer.org.</b></div><div class=\"sk-container\" hidden><div class=\"sk-item sk-dashed-wrapped\"><div class=\"sk-label-container\"><div class=\"sk-label sk-toggleable\"><input class=\"sk-toggleable__control sk-hidden--visually\" id=\"sk-estimator-id-7\" type=\"checkbox\" ><label for=\"sk-estimator-id-7\" class=\"sk-toggleable__label sk-toggleable__label-arrow\">AdaBoostClassifier</label><div class=\"sk-toggleable__content\"><pre>AdaBoostClassifier(algorithm=&#x27;SAMME&#x27;,\n",
              "                   base_estimator=DecisionTreeClassifier(max_depth=2),\n",
              "                   n_estimators=2000)</pre></div></div></div><div class=\"sk-parallel\"><div class=\"sk-parallel-item\"><div class=\"sk-item\"><div class=\"sk-label-container\"><div class=\"sk-label sk-toggleable\"><input class=\"sk-toggleable__control sk-hidden--visually\" id=\"sk-estimator-id-8\" type=\"checkbox\" ><label for=\"sk-estimator-id-8\" class=\"sk-toggleable__label sk-toggleable__label-arrow\">base_estimator: DecisionTreeClassifier</label><div class=\"sk-toggleable__content\"><pre>DecisionTreeClassifier(max_depth=2)</pre></div></div></div><div class=\"sk-serial\"><div class=\"sk-item\"><div class=\"sk-estimator sk-toggleable\"><input class=\"sk-toggleable__control sk-hidden--visually\" id=\"sk-estimator-id-9\" type=\"checkbox\" ><label for=\"sk-estimator-id-9\" class=\"sk-toggleable__label sk-toggleable__label-arrow\">DecisionTreeClassifier</label><div class=\"sk-toggleable__content\"><pre>DecisionTreeClassifier(max_depth=2)</pre></div></div></div></div></div></div></div></div></div></div>"
            ]
          },
          "metadata": {},
          "execution_count": 23
        }
      ]
    },
    {
      "cell_type": "code",
      "source": [
        "# テストデータの読み込み\n",
        "filepath_test = \"/content/soldat_test.csv\"\n",
        "soldat_test = pd.read_csv(filepath_or_buffer = filepath_test)\n",
        "X_test = soldat_test.iloc[:, :71].values\n",
        "y_test = soldat_test[\"y\"].values"
      ],
      "metadata": {
        "id": "9yo0_ZI_858O"
      },
      "execution_count": null,
      "outputs": []
    },
    {
      "cell_type": "code",
      "source": [
        "pred_train, pred_test = abc.predict(X_train), abc.predict(X_test)"
      ],
      "metadata": {
        "id": "gWqqE8vx9LpB"
      },
      "execution_count": null,
      "outputs": []
    },
    {
      "cell_type": "code",
      "source": [
        "# 訓練データの混同行列\n",
        "from sklearn.metrics import confusion_matrix\n",
        "confusion_matrix(y_true = y_train, y_pred = pred_train)"
      ],
      "metadata": {
        "colab": {
          "base_uri": "https://localhost:8080/"
        },
        "id": "wU1Rib6Z9Pve",
        "outputId": "cdf0d519-5ab6-407a-9e73-063dc556b149"
      },
      "execution_count": null,
      "outputs": [
        {
          "output_type": "execute_result",
          "data": {
            "text/plain": [
              "array([[2363,   48],\n",
              "       [  88, 1402]])"
            ]
          },
          "metadata": {},
          "execution_count": 22
        }
      ]
    },
    {
      "cell_type": "code",
      "source": [
        "# テストデータの混同行列\n",
        "from sklearn.metrics import confusion_matrix\n",
        "confusion_matrix(y_true = y_test, y_pred = pred_test)"
      ],
      "metadata": {
        "colab": {
          "base_uri": "https://localhost:8080/"
        },
        "id": "xakh4TEp9X_G",
        "outputId": "c309af2b-cb6a-4795-b04c-b5c6ff4fd986"
      },
      "execution_count": null,
      "outputs": [
        {
          "output_type": "execute_result",
          "data": {
            "text/plain": [
              "array([[500,  78],\n",
              "       [119, 246]])"
            ]
          },
          "metadata": {},
          "execution_count": 24
        }
      ]
    },
    {
      "cell_type": "code",
      "source": [
        "# 正答率によるモデルの評価（訓練データ）\n",
        "from sklearn.metrics import accuracy_score\n",
        "accuracy_score(y_true = y_train, y_pred = pred_train)"
      ],
      "metadata": {
        "colab": {
          "base_uri": "https://localhost:8080/"
        },
        "id": "mLiBQzXv9q03",
        "outputId": "cdd36fff-9548-4705-9443-e7353c46e896"
      },
      "execution_count": null,
      "outputs": [
        {
          "output_type": "execute_result",
          "data": {
            "text/plain": [
              "0.9651371443219687"
            ]
          },
          "metadata": {},
          "execution_count": 25
        }
      ]
    },
    {
      "cell_type": "code",
      "source": [
        "# 正答率によるモデルの評価（テストデータ）\n",
        "from sklearn.metrics import accuracy_score\n",
        "accuracy_score(y_true = y_test, y_pred = pred_test)"
      ],
      "metadata": {
        "colab": {
          "base_uri": "https://localhost:8080/"
        },
        "id": "sw3qqpcj9szW",
        "outputId": "805103e0-765c-47e5-8653-cc856caae580"
      },
      "execution_count": null,
      "outputs": [
        {
          "output_type": "execute_result",
          "data": {
            "text/plain": [
              "0.7910922587486744"
            ]
          },
          "metadata": {},
          "execution_count": 27
        }
      ]
    },
    {
      "cell_type": "code",
      "source": [
        "# 学習曲線\n",
        "import matplotlib.pyplot as plt\n",
        "import numpy as np\n",
        "max_iteration = 2000\n",
        "train_score = np.asarray([score for score in abc.staged_score(X_train, y_train)])\n",
        "test_score = np.asarray([score for score in abc.staged_score(X_test, y_test)])\n",
        "\n",
        "plt.plot(np.arange(max_iteration) + 1, train_score, 'b-', label = \"train\")\n",
        "plt.plot(np.arange(max_iteration) + 1, test_score, 'r-', label = \"test\")\n",
        "plt.xlabel(\"iteration\")\n",
        "plt.ylabel(\"accuracy\")\n",
        "plt.legend()\n",
        "plt.show()"
      ],
      "metadata": {
        "colab": {
          "base_uri": "https://localhost:8080/",
          "height": 449
        },
        "id": "1QkdcHSu98dD",
        "outputId": "140f22dd-c24f-4ee8-a3e1-9e8e10b5e094"
      },
      "execution_count": null,
      "outputs": [
        {
          "output_type": "display_data",
          "data": {
            "text/plain": [
              "<Figure size 640x480 with 1 Axes>"
            ],
            "image/png": "[encoded data removed]"
          },
          "metadata": {}
        }
      ]
    },
    {
      "cell_type": "code",
      "source": [
        "# 変数重要度\n",
        "importances = abc.feature_importances_\n",
        "feature_name = np.arange(1, 72).astype(np.str)\n",
        "indices = np.argsort(importances)\n",
        "plt.figure(figsize = (5, 12))\n",
        "plt.barh(np.asarray(feature_name)[indices],\n",
        "         importances[indices],\n",
        "         color=\"r\",\n",
        "         align=\"center\")\n",
        "\n",
        "plt.show()"
      ],
      "metadata": {
        "colab": {
          "base_uri": "https://localhost:8080/",
          "height": 1000
        },
        "id": "FU62itIw_rGg",
        "outputId": "616dc802-b94a-461c-e16b-75cb674c29b9"
      },
      "execution_count": null,
      "outputs": [
        {
          "output_type": "stream",
          "name": "stderr",
          "text": [
            "<ipython-input-32-c8c46c1d4873>:3: DeprecationWarning: `np.str` is a deprecated alias for the builtin `str`. To silence this warning, use `str` by itself. Doing this will not modify any behavior and is safe. If you specifically wanted the numpy scalar type, use `np.str_` here.\n",
            "Deprecated in NumPy 1.20; for more details and guidance: https://numpy.org/devdocs/release/1.20.0-notes.html#deprecations\n",
            "  feature_name = np.arange(1, 72).astype(np.str)\n"
          ]
        },
        {
          "output_type": "display_data",
          "data": {
            "text/plain": [
              "<Figure size 500x1200 with 1 Axes>"
            ],
            "image/png": "[encoded data removed]"
          },
          "metadata": {}
        }
      ]
    }
  ]
}